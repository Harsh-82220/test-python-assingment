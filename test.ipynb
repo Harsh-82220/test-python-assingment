{
  "nbformat": 4,
  "nbformat_minor": 0,
  "metadata": {
    "colab": {
      "provenance": []
    },
    "kernelspec": {
      "name": "python3",
      "display_name": "Python 3"
    },
    "language_info": {
      "name": "python"
    }
  },
  "cells": [
    {
      "cell_type": "markdown",
      "source": [
        "1. the `Person` class has a constructor that takes `name` and `age` as arguments and assigns them to the object's attributes. The `introduce` method is then invoked on the object to introduce the person."
      ],
      "metadata": {
        "id": "tmqYQ62plZU-"
      }
    },
    {
      "cell_type": "code",
      "source": [
        "# Ans1\n",
        "class person:\n",
        "    def __init__(self,name,age):\n",
        "        self.name = name\n",
        "        self.age = age\n",
        "\n",
        "    def personname(self):\n",
        "        print(f\" name is {self.name} and age is {self.age}\")\n"
      ],
      "metadata": {
        "id": "wQYqkABDmDDn"
      },
      "execution_count": 1,
      "outputs": []
    },
    {
      "cell_type": "code",
      "source": [
        "person1=person(\"harsh\",18)"
      ],
      "metadata": {
        "id": "MtT5OrddmUg3"
      },
      "execution_count": 2,
      "outputs": []
    },
    {
      "cell_type": "code",
      "source": [
        "person1.personname()"
      ],
      "metadata": {
        "colab": {
          "base_uri": "https://localhost:8080/"
        },
        "id": "VD1j4Xm8mXae",
        "outputId": "aed4d9ac-4abd-4259-a04a-cb4c063567d5"
      },
      "execution_count": 3,
      "outputs": [
        {
          "output_type": "stream",
          "name": "stdout",
          "text": [
            " name is harsh and age is 18\n"
          ]
        }
      ]
    },
    {
      "cell_type": "markdown",
      "source": [
        "2. the `Car` class has a constructor that takes `brand` and `model` as arguments and assigns them to the object's attributes. The `display_info` method is then invoked on the object to display the car's brand and model."
      ],
      "metadata": {
        "id": "efzTiJfjlf2e"
      }
    },
    {
      "cell_type": "code",
      "source": [
        "# Ans2\n",
        "class car:\n",
        "    def __init__(self,brand,modal):\n",
        "        self.brand = brand\n",
        "        self.modal = modal\n",
        "\n",
        "    def carname(self):\n",
        "        print(f\" the brand name is {self.brand} and modal name is {self.modal}\")"
      ],
      "metadata": {
        "id": "7jwAUGNAmcsr"
      },
      "execution_count": 4,
      "outputs": []
    },
    {
      "cell_type": "code",
      "source": [
        "car1=car(\"tata\",2022)"
      ],
      "metadata": {
        "id": "hGQLmHE2mkPS"
      },
      "execution_count": null,
      "outputs": []
    },
    {
      "cell_type": "code",
      "source": [
        "car1.carname()"
      ],
      "metadata": {
        "id": "AeZG6EkRmlCN"
      },
      "execution_count": null,
      "outputs": []
    },
    {
      "cell_type": "markdown",
      "source": [
        "3. the `BankAccount` class has a constructor that takes `account_number` and `balance` as arguments and assigns them to the object's attributes. The `display_balance` method is then invoked on the object to display the account number and balance."
      ],
      "metadata": {
        "id": "kHT5kT_YllX5"
      }
    },
    {
      "cell_type": "code",
      "source": [
        "# Ans =3\n",
        "class BankAccount:\n",
        "    def __init__(self,name,account_number,balance):\n",
        "        self.name = name\n",
        "        self.account_number = account_number\n",
        "        self.balance = balance\n",
        "\n",
        "    def bankAccountname(self):\n",
        "        print(f\" the name is {self.name} the bankaccount number is {self.account_number} and the bankaccount balance{self.balance}\")"
      ],
      "metadata": {
        "id": "m2EjcRg2mpIt"
      },
      "execution_count": 14,
      "outputs": []
    },
    {
      "cell_type": "code",
      "source": [
        "bankAccount1=BankAccount( \"harsh\",\"123455467\",100000)"
      ],
      "metadata": {
        "id": "BpJYpPnbmueU"
      },
      "execution_count": 6,
      "outputs": []
    },
    {
      "cell_type": "code",
      "source": [
        "bankAccount1.bankAccountname()"
      ],
      "metadata": {
        "colab": {
          "base_uri": "https://localhost:8080/"
        },
        "id": "UNgb45hwmwjA",
        "outputId": "13d2925c-0a93-4be3-fc19-8ca27ed9dce3"
      },
      "execution_count": 15,
      "outputs": [
        {
          "output_type": "stream",
          "name": "stdout",
          "text": [
            " the name is harsh the bankaccount number is 123455467 and the bankaccount balance100000\n"
          ]
        }
      ]
    },
    {
      "cell_type": "markdown",
      "source": [
        "4.  the `MobilePhone` class has a constructor that takes `brand` and `model` as arguments and assigns them to the object's attributes. The `make_call` method is then invoked on the object to make a call with the phone.\n"
      ],
      "metadata": {
        "id": "ni5TK-DTlma3"
      }
    },
    {
      "cell_type": "code",
      "source": [
        "# Ans 4\n",
        "class MobilePhone:\n",
        "    def __init__(self,brand,modal):\n",
        "        self.brand = brand\n",
        "        self.modal = modal\n",
        "\n",
        "    def make_call(self):\n",
        "         print(f\"the brand name is {self.brand} and the modal name is {self.modal}\")"
      ],
      "metadata": {
        "id": "5B2IwJpnm5Jw"
      },
      "execution_count": 8,
      "outputs": []
    },
    {
      "cell_type": "code",
      "source": [
        "mobilePhone1=MobilePhone(\"i phone\",\"16 pro max\")"
      ],
      "metadata": {
        "id": "VLObRU1km6_y"
      },
      "execution_count": 9,
      "outputs": []
    },
    {
      "cell_type": "code",
      "source": [
        "mobilePhone1.make_call()"
      ],
      "metadata": {
        "colab": {
          "base_uri": "https://localhost:8080/"
        },
        "id": "bhKJL2Pam-Nk",
        "outputId": "ab28b739-9418-4116-9229-177dfcac9990"
      },
      "execution_count": 10,
      "outputs": [
        {
          "output_type": "stream",
          "name": "stdout",
          "text": [
            "the brand name is i phone and the modal name is 16 pro max\n"
          ]
        }
      ]
    },
    {
      "cell_type": "markdown",
      "source": [
        "5. the `Book` class has a constructor that takes `title` and `author` as arguments and assigns them to the object's attributes. The `display_info` method is then invoked on the object to display the book's title and author."
      ],
      "metadata": {
        "id": "nlogDHNClo_c"
      }
    },
    {
      "cell_type": "code",
      "source": [
        "# Ans 5\n",
        "class Book:\n",
        "    def __init__(self,title,author):\n",
        "        self.title = title\n",
        "        self.author = author\n",
        "\n",
        "    def Book(self):\n",
        "        print(f\"the title name is {self.title} and the author name is {self.author}\")"
      ],
      "metadata": {
        "id": "4BFQsMk_nTkL"
      },
      "execution_count": 16,
      "outputs": []
    },
    {
      "cell_type": "code",
      "source": [
        "Book1 = Book(\" the lost spring\",\"anees jung\")"
      ],
      "metadata": {
        "id": "YMxagucSnXx2"
      },
      "execution_count": 17,
      "outputs": []
    },
    {
      "cell_type": "code",
      "source": [
        "Book1.Book()"
      ],
      "metadata": {
        "colab": {
          "base_uri": "https://localhost:8080/"
        },
        "id": "5TfPqddRnbTZ",
        "outputId": "2b6d6d26-c9b7-4dc4-bcd1-1aea1e3dd8a2"
      },
      "execution_count": 18,
      "outputs": [
        {
          "output_type": "stream",
          "name": "stdout",
          "text": [
            "the title name is  the lost spring and the author name is anees jung\n"
          ]
        }
      ]
    },
    {
      "cell_type": "markdown",
      "source": [
        "6. Vehicles: Create a base class called Vehicle with attributes such as make, model, and year. Implement two subclasses Car and Motorcycle that inherit from Vehicle. Add additional methods to the subclasses, such as start_engine() and stop_engine(), and handle any specific behavior or rules for each vehicle type."
      ],
      "metadata": {
        "id": "Jfo3iV8olsn4"
      }
    },
    {
      "cell_type": "code",
      "source": [
        "# Ans 6\n",
        "class Vehicle:\n",
        "    def __init__(self, make, model, year):\n",
        "        self.make = make\n",
        "        self.model = model\n",
        "        self.year = year\n",
        "\n",
        "    def start_engine(self):\n",
        "        pass"
      ],
      "metadata": {
        "id": "8oyXQb6rnjEL"
      },
      "execution_count": 19,
      "outputs": []
    },
    {
      "cell_type": "code",
      "source": [
        "class car(Vehicle):\n",
        "    def __init__(self,make,model,year):\n",
        "        self.make = make\n",
        "        self.model = model\n",
        "        self.year = year\n",
        "\n",
        "    def stop_engine(self):\n",
        "            print(f\" the make name is {self.make} and the model name is {self.model} and the year name is {self.year}\")"
      ],
      "metadata": {
        "id": "gajQRscJnkJE"
      },
      "execution_count": 20,
      "outputs": []
    },
    {
      "cell_type": "code",
      "source": [
        "car1=car( \"toyota\",\"xuv 700\",\"2024\")"
      ],
      "metadata": {
        "id": "D-x4RoWsnoEU"
      },
      "execution_count": 21,
      "outputs": []
    },
    {
      "cell_type": "code",
      "source": [
        "car1.stop_engine()"
      ],
      "metadata": {
        "colab": {
          "base_uri": "https://localhost:8080/"
        },
        "id": "4qFHaQQMnrMA",
        "outputId": "e13be4bd-b544-41c3-b151-17efabc5eaa8"
      },
      "execution_count": 22,
      "outputs": [
        {
          "output_type": "stream",
          "name": "stdout",
          "text": [
            " the make name is toyota and the model name is xuv 700 and the year name is 2024\n"
          ]
        }
      ]
    },
    {
      "cell_type": "code",
      "source": [
        "class Motorcycle(Vehicle):\n",
        "    def __init__(self,make,model,year):\n",
        "        self.make = make\n",
        "        self.model = model\n",
        "        self.year = year\n",
        "\n",
        "    def stop_enginename(self):\n",
        "        print(f\"the make name is {self.make} and the model name is {self.model} and the year name is {self.year}\")"
      ],
      "metadata": {
        "id": "XsHy8d0Nn3HP"
      },
      "execution_count": 23,
      "outputs": []
    },
    {
      "cell_type": "code",
      "source": [
        "Motorcycle1=Motorcycle(\"bajaj\",\"110cc\",\"2024\",)"
      ],
      "metadata": {
        "id": "BoyAxfQnn4lu"
      },
      "execution_count": 24,
      "outputs": []
    },
    {
      "cell_type": "code",
      "source": [
        "Motorcycle1.stop_enginename()"
      ],
      "metadata": {
        "colab": {
          "base_uri": "https://localhost:8080/"
        },
        "id": "0GWAiWHTn7v3",
        "outputId": "d9a79084-a33f-4728-87da-db7eaae6dc2a"
      },
      "execution_count": 25,
      "outputs": [
        {
          "output_type": "stream",
          "name": "stdout",
          "text": [
            "the make name is bajaj and the model name is 110cc and the year name is 2024\n"
          ]
        }
      ]
    },
    {
      "cell_type": "markdown",
      "source": [
        "7. Animals: Create a base class called Animal with methods such as eat() and sleep(). Implement two subclasses Dog and Cat that inherit from Animal. Add additional methods to the subclasses, such as bark() for dogs and meow() for cats, and handle any specific behavior or rules for each animal type."
      ],
      "metadata": {
        "id": "Ytb_hZvclxfK"
      }
    },
    {
      "cell_type": "code",
      "source": [
        "# Ans 7\n",
        "class Animals:\n",
        "    def __init__(self,eat,sleep):\n",
        "        self.eat = eat\n",
        "        self.sleep = sleep\n",
        "\n",
        "    def sound(self):\n",
        "        pass"
      ],
      "metadata": {
        "id": "Td4azzhnnxRw"
      },
      "execution_count": 26,
      "outputs": []
    },
    {
      "cell_type": "code",
      "source": [
        "class dog(Animals):\n",
        "    def __init__(self,eat,sleep):\n",
        "        self.eat = eat\n",
        "        self.sleep = sleep\n",
        "\n",
        "    def bark(self):\n",
        "        print(f\"the dog is eat {self.eat} and the dog is sleep {self.sleep}\")"
      ],
      "metadata": {
        "id": "DuuYdOSyoOJe"
      },
      "execution_count": 27,
      "outputs": []
    },
    {
      "cell_type": "code",
      "source": [
        "dog1=dog(\"meat\",\"5 to 6 hours sleep\")"
      ],
      "metadata": {
        "id": "vME21XtXoRjk"
      },
      "execution_count": 28,
      "outputs": []
    },
    {
      "cell_type": "code",
      "source": [
        "dog1.bark()"
      ],
      "metadata": {
        "colab": {
          "base_uri": "https://localhost:8080/"
        },
        "id": "Qrv7cL9ooUFk",
        "outputId": "3be454e3-860c-4496-8ef6-1ef2cc742e04"
      },
      "execution_count": 29,
      "outputs": [
        {
          "output_type": "stream",
          "name": "stdout",
          "text": [
            "the dog is eat meat and the dog is sleep 5 to 6 hours sleep\n"
          ]
        }
      ]
    },
    {
      "cell_type": "code",
      "source": [
        "class cat(Animals):\n",
        "    def __init__(self,eat,sleep):\n",
        "        self.eat = eat\n",
        "        self.sleep = sleep\n",
        "\n",
        "    def meow(self):\n",
        "        print(f\" the cat is eat {self.eat} and the cat is sleep {self.sleep}\")"
      ],
      "metadata": {
        "id": "jv4P_MuvogWq"
      },
      "execution_count": 30,
      "outputs": []
    },
    {
      "cell_type": "code",
      "source": [
        "cat1=cat(\"milke\",\"9 10 hours sleep\")"
      ],
      "metadata": {
        "id": "fTwG7sATojgC"
      },
      "execution_count": 31,
      "outputs": []
    },
    {
      "cell_type": "code",
      "source": [
        "cat1.meow()"
      ],
      "metadata": {
        "colab": {
          "base_uri": "https://localhost:8080/"
        },
        "id": "f9SsP1wwokSX",
        "outputId": "04d5eaa5-37bc-4275-ea55-9c44bd3675d8"
      },
      "execution_count": 32,
      "outputs": [
        {
          "output_type": "stream",
          "name": "stdout",
          "text": [
            " the cat is eat milke and the cat is sleep 9 10 hours sleep\n"
          ]
        }
      ]
    },
    {
      "cell_type": "markdown",
      "source": [
        "8. Library Catalog: Create a base class called LibraryItem with attributes such as title, author, and publication_year. Implement two subclasses Book and Magazine that inherit from LibraryItem. Add additional methods to the subclasses, such as checkout() and return_item(), and handle any specific behavior or rules for each item type.\n"
      ],
      "metadata": {
        "id": "0NcvPhz_l0MT"
      }
    },
    {
      "cell_type": "code",
      "source": [
        "# Ans 8\n",
        "class Library:\n",
        "    def __init__(self,title,author,publication_year):\n",
        "        self.title = title\n",
        "        self.author = author\n",
        "        self.publication_year = publication_year"
      ],
      "metadata": {
        "id": "POKQy0FEozAo"
      },
      "execution_count": 33,
      "outputs": []
    },
    {
      "cell_type": "code",
      "source": [
        "class Book(Library):\n",
        "    def __init__(self,title,author,publication_year):\n",
        "        self.title = title\n",
        "        self.author = author\n",
        "        self.publication_year = publication_year\n",
        "\n",
        "    def checkout(self):\n",
        "        print(f\" the title name is {self.title} and the author name is {self.author} and the publication_year name is {self.publication_year}\")"
      ],
      "metadata": {
        "id": "aVcdAxo1o4Cw"
      },
      "execution_count": 34,
      "outputs": []
    },
    {
      "cell_type": "code",
      "source": [
        "Book1=Book(\" the last lesson\",\"Alphonse Daudet\",\"2023\")"
      ],
      "metadata": {
        "id": "wgZAFLjEo7Vn"
      },
      "execution_count": 35,
      "outputs": []
    },
    {
      "cell_type": "code",
      "source": [
        "Book1.checkout()"
      ],
      "metadata": {
        "colab": {
          "base_uri": "https://localhost:8080/"
        },
        "id": "hTAO8jdto9yE",
        "outputId": "5f84002c-b923-42a4-c41d-978ae271e205"
      },
      "execution_count": 36,
      "outputs": [
        {
          "output_type": "stream",
          "name": "stdout",
          "text": [
            " the title name is  the last lesson and the author name is Alphonse Daudet and the publication_year name is 2023\n"
          ]
        }
      ]
    },
    {
      "cell_type": "code",
      "source": [
        "class Magazine(Library):\n",
        "    def __init__(self,title,author,publication_year):\n",
        "        self.title = title\n",
        "        self.author = author\n",
        "        self.publication_year = publication_year\n",
        "\n",
        "    def return_item(self):\n",
        "        print(f\" the title name is {self.title} and the author name is {self.author} and the publication_year name is {self.publication_year}\")"
      ],
      "metadata": {
        "id": "8tPFLH1OpA4Q"
      },
      "execution_count": 37,
      "outputs": []
    },
    {
      "cell_type": "code",
      "source": [
        "Magazine1=Magazine(\"deep water\",\"patricia highsmith\",\"1870\")"
      ],
      "metadata": {
        "id": "6hBR5qXZpEVh"
      },
      "execution_count": 38,
      "outputs": []
    },
    {
      "cell_type": "code",
      "source": [
        "Magazine1.return_item()"
      ],
      "metadata": {
        "colab": {
          "base_uri": "https://localhost:8080/"
        },
        "id": "gij4o2UApG2U",
        "outputId": "4d4ccff4-0763-44a7-f20b-caaa107376e1"
      },
      "execution_count": 39,
      "outputs": [
        {
          "output_type": "stream",
          "name": "stdout",
          "text": [
            " the title name is deep water and the author name is patricia highsmith and the publication_year name is 1870\n"
          ]
        }
      ]
    },
    {
      "cell_type": "markdown",
      "source": [
        "9. Employees and Departments: Create a base class called Employee with attributes such as name, salary, and department. Implement two subclasses Manager and Staff that inherit from Employee. Add additional methods to the subclasses, such as assign_task() for managers and attend_meeting() for staff members. Create a separate class called Department that contains a list of employees and methods to add or remove employees from the department."
      ],
      "metadata": {
        "id": "Pl7AGYG9l3zq"
      }
    },
    {
      "cell_type": "code",
      "source": [
        "# Ans 9\n",
        "class Employee:\n",
        "    def __init__(self, name, salary, department):\n",
        "        self.name = name\n",
        "        self.salary = salary\n",
        "        self.department = department"
      ],
      "metadata": {
        "id": "xYxpEinapQvM"
      },
      "execution_count": 40,
      "outputs": []
    },
    {
      "cell_type": "code",
      "source": [
        "class managers(Employee):\n",
        "    def __init__(self, name, salary, department):\n",
        "        self.name = name\n",
        "        self.salary = salary\n",
        "        self.department = department\n",
        "\n",
        "    def assign_task(self):\n",
        "         print (f\"name {self.name}, Salary: {self.salary}, Department: {self.department}\")\n",
        "\n",
        "    def attend_meeting(self):\n",
        "        print(f\"name {self.name}, Salary: {self.salary}, Department: {self.department}\")"
      ],
      "metadata": {
        "id": "SQWVgqUGpj5-"
      },
      "execution_count": 41,
      "outputs": []
    },
    {
      "cell_type": "code",
      "source": [
        "class staff(Employee):\n",
        "    def __init__(self, name, salary, department):\n",
        "        self.name = name\n",
        "        self.salary = salary\n",
        "        self.department = department\n",
        "\n",
        "    def assign_task(self):\n",
        "         print (f\"name {self.name}, Salary: {self.salary}, Department: {self.department}\")\n",
        "\n",
        "    def attend_meeting(self):\n",
        "        print(f\"name {self.name}, Salary: {self.salary}, Department: {self.department}\")"
      ],
      "metadata": {
        "id": "FiA29_oOpmsS"
      },
      "execution_count": 42,
      "outputs": []
    },
    {
      "cell_type": "code",
      "source": [
        "managers1=managers(\"harsh\",\"50000\",\"finance\")"
      ],
      "metadata": {
        "id": "cu4GhYGhppnF"
      },
      "execution_count": 43,
      "outputs": []
    },
    {
      "cell_type": "code",
      "source": [
        "managers1.assign_task()"
      ],
      "metadata": {
        "colab": {
          "base_uri": "https://localhost:8080/"
        },
        "id": "YpILjVZApr_X",
        "outputId": "0cb548fd-d956-484a-d538-70aed50cabc4"
      },
      "execution_count": 44,
      "outputs": [
        {
          "output_type": "stream",
          "name": "stdout",
          "text": [
            "name harsh, Salary: 50000, Department: finance\n"
          ]
        }
      ]
    },
    {
      "cell_type": "code",
      "source": [
        "staff1=staff(\"nitin\",\"2000\",\"business\")\n",
        "staff1.assign_task()"
      ],
      "metadata": {
        "colab": {
          "base_uri": "https://localhost:8080/"
        },
        "id": "8LuwQRyYpuTL",
        "outputId": "f4f00133-d164-42a9-ef46-3c72f58b20e9"
      },
      "execution_count": 45,
      "outputs": [
        {
          "output_type": "stream",
          "name": "stdout",
          "text": [
            "name nitin, Salary: 2000, Department: business\n"
          ]
        }
      ]
    },
    {
      "cell_type": "markdown",
      "source": [
        "10. Bank Transactions: Create a base class called BankAccount with attributes such as account_number and balance. Implement subclasses for different types of accounts such as CheckingAccount and SavingsAccount that inherit from BankAccount. Add additional methods to the subclasses, such as withdraw() and deposit(), and handle any specific behavior or rules for each account type."
      ],
      "metadata": {
        "id": "iLCXQn5_l6fI"
      }
    },
    {
      "cell_type": "code",
      "source": [
        "# Ans 10\n",
        "class BankAccount:\n",
        "    def __init__(self,account_number,balance):\n",
        "        self.account_number = account_number\n",
        "        self.balance = balance"
      ],
      "metadata": {
        "id": "cPxFcZoOp42Y"
      },
      "execution_count": 46,
      "outputs": []
    },
    {
      "cell_type": "code",
      "source": [
        "class CheckingAccount(BankAccount):\n",
        "    def __init__(self,account_number,balance):\n",
        "        super().__init__(account_number,balance)\n",
        "\n",
        "    def  withdraw(self):\n",
        "        print(f\"account_number {self.account_number} and balance {self.balance}\")"
      ],
      "metadata": {
        "id": "53B9IeG3p7vv"
      },
      "execution_count": 47,
      "outputs": []
    },
    {
      "cell_type": "code",
      "source": [
        "class SavingsAccount(BankAccount):\n",
        "    def __init__(self,account_number,balance):\n",
        "        super().__init__(account_number,balance)\n",
        "    def deposit(self):\n",
        "        print(f\"account_number {self.account_number} and balance {self.balance}\")"
      ],
      "metadata": {
        "id": "kWrqPYfnp9tk"
      },
      "execution_count": 48,
      "outputs": []
    },
    {
      "cell_type": "code",
      "source": [
        "CheckingAccount1=CheckingAccount(\"866354974657\",10000000)"
      ],
      "metadata": {
        "id": "6nhrlM1yqAhq"
      },
      "execution_count": 49,
      "outputs": []
    },
    {
      "cell_type": "code",
      "source": [
        "CheckingAccount1.withdraw()"
      ],
      "metadata": {
        "colab": {
          "base_uri": "https://localhost:8080/"
        },
        "id": "kU7wbRFVqDBJ",
        "outputId": "e72734a0-05af-4ba6-d264-badfb87663fb"
      },
      "execution_count": 50,
      "outputs": [
        {
          "output_type": "stream",
          "name": "stdout",
          "text": [
            "account_number 866354974657 and balance 10000000\n"
          ]
        }
      ]
    },
    {
      "cell_type": "code",
      "source": [
        "savingsaccount1=SavingsAccount(\"866354974657\",1000000000)"
      ],
      "metadata": {
        "id": "2MmPxfcMqHJv"
      },
      "execution_count": 51,
      "outputs": []
    },
    {
      "cell_type": "code",
      "source": [
        "savingsaccount1.deposit()"
      ],
      "metadata": {
        "colab": {
          "base_uri": "https://localhost:8080/"
        },
        "id": "S2CH1bVSqJWC",
        "outputId": "a55a9db6-419d-4660-ede5-2e0c5546d6de"
      },
      "execution_count": 52,
      "outputs": [
        {
          "output_type": "stream",
          "name": "stdout",
          "text": [
            "account_number 866354974657 and balance 1000000000\n"
          ]
        }
      ]
    },
    {
      "cell_type": "markdown",
      "source": [
        "11. School Management System: Create a base class called Person with attributes such as name, age, and address. Implement subclasses for different roles such as Student, Teacher, and Staff that inherit from Person. Add additional methods to the subclasses, such as take_exam() for students and teach_subject() for teachers."
      ],
      "metadata": {
        "id": "4VQvmw_0l-Dm"
      }
    },
    {
      "cell_type": "code",
      "source": [
        "# Ans11\n",
        "class Person:\n",
        "    def __init__(self,name,age,address):\n",
        "        self.name = name\n",
        "        self.age = age\n",
        "        self.address = address"
      ],
      "metadata": {
        "id": "aux6_2ESlizp"
      },
      "execution_count": 59,
      "outputs": []
    },
    {
      "cell_type": "code",
      "source": [
        "class student(Person):\n",
        "    def __init__(self,name,age,address):\n",
        "\n",
        "        super().__init__(name,age,address)\n",
        "\n",
        "    def take_exam(self):\n",
        "\n",
        "        print(f\" the name is {self.name} age{self.age} address   {self.address}\")"
      ],
      "metadata": {
        "id": "isdqz0SLqb9I"
      },
      "execution_count": 60,
      "outputs": []
    },
    {
      "cell_type": "code",
      "source": [
        "class teacher(person):\n",
        "    def __init__(self,name,age,address):\n",
        "        super().__init__(name,age,address)\n",
        "\n",
        "    def teach_subject(self):\n",
        "        print(f\" the name is {self.name} age {self.age} address {self.address}\")"
      ],
      "metadata": {
        "id": "Sp8BBn75q6KZ"
      },
      "execution_count": 61,
      "outputs": []
    },
    {
      "cell_type": "code",
      "source": [
        "class staff(person):\n",
        "    def __init__(self,name,age,address):\n",
        "        super().__init__(name,age,address)\n",
        "\n",
        "    def take_exam(self):\n",
        "        print(f\" the name is {self.name} age {self.age} address {self.address}\")\n",
        "\n",
        "    def teach_subject(self):\n",
        "        print(f\" the name is {self.name} age {self.age}  address  {self.address}\")"
      ],
      "metadata": {
        "id": "eWYvJXwxq-a0"
      },
      "execution_count": 62,
      "outputs": []
    },
    {
      "cell_type": "code",
      "source": [
        "person1=person(\"harsh\",\"18\",\"jarthal\")"
      ],
      "metadata": {
        "id": "ov-P88QZtPDA"
      },
      "execution_count": null,
      "outputs": []
    },
    {
      "cell_type": "code",
      "source": [
        "student1=student(\"harsh\",\"18\",\"jarthal\")"
      ],
      "metadata": {
        "id": "L-67bgVDrCr4"
      },
      "execution_count": 71,
      "outputs": []
    },
    {
      "cell_type": "code",
      "source": [
        "student1.take_exam()"
      ],
      "metadata": {
        "colab": {
          "base_uri": "https://localhost:8080/"
        },
        "id": "jcQm9I_qrFMs",
        "outputId": "316e6d7b-45b8-4377-a089-3e26c951c34f"
      },
      "execution_count": 72,
      "outputs": [
        {
          "output_type": "stream",
          "name": "stdout",
          "text": [
            " the name is harsh age18 address   jarthal\n"
          ]
        }
      ]
    },
    {
      "cell_type": "code",
      "source": [
        "teacher1=teacher(\"mahipal\",\"27\",\"alwar\")"
      ],
      "metadata": {
        "id": "UOBL2RJcmB1y"
      },
      "execution_count": null,
      "outputs": []
    },
    {
      "cell_type": "code",
      "source": [
        "teacher1.teach_subject()"
      ],
      "metadata": {
        "id": "QppfXnNLs8iO"
      },
      "execution_count": null,
      "outputs": []
    },
    {
      "cell_type": "code",
      "source": [
        "staff1=staff(\"harsh\",\"18\",\"jarthal\")"
      ],
      "metadata": {
        "id": "pn8KbpNRtBdq"
      },
      "execution_count": null,
      "outputs": []
    },
    {
      "cell_type": "code",
      "source": [
        "staff1.take_exam()"
      ],
      "metadata": {
        "id": "1Bn6RGUFtDsQ"
      },
      "execution_count": null,
      "outputs": []
    },
    {
      "cell_type": "code",
      "source": [
        "staff1.teach_subject()"
      ],
      "metadata": {
        "id": "DJ0cy70ZtGO2"
      },
      "execution_count": null,
      "outputs": []
    }
  ]
}